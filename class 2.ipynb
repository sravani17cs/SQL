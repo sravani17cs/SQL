{
 "cells": [
  {
   "cell_type": "code",
   "execution_count": 4,
   "metadata": {},
   "outputs": [
    {
     "name": "stdout",
     "output_type": "stream",
     "text": [
      "<class 'numpy.ndarray'>\n",
      "(3,)\n",
      "100 300\n",
      "[958 200 300]\n"
     ]
    }
   ],
   "source": [
    "import numpy as np \n",
    "import pandas as pd\n",
    "import matplotlib\n",
    "#%inline matplotlib\n",
    "a = np.array([100,200,300])\n",
    "print(type(a))\n",
    "print(a.shape)\n",
    "print(a[0], a[2])\n",
    "a[0]=958\n",
    "print(a)"
   ]
  },
  {
   "cell_type": "code",
   "execution_count": 9,
   "metadata": {},
   "outputs": [
    {
     "name": "stdout",
     "output_type": "stream",
     "text": [
      "[[4 5 6]\n",
      " [9 7 6]]\n",
      "(2, 3)\n",
      "<class 'numpy.ndarray'>\n"
     ]
    }
   ],
   "source": [
    "#create rank 2 array and print the there value and shape \n",
    "\n",
    "\n",
    "\n",
    "\n",
    "b = np.array([[4,5,6],[9,7,6]])\n",
    "print(b)\n",
    "print(b.shape)\n",
    "print(type(b))"
   ]
  },
  {
   "cell_type": "code",
   "execution_count": 10,
   "metadata": {},
   "outputs": [
    {
     "name": "stdout",
     "output_type": "stream",
     "text": [
      "[[ 6.  8.]\n",
      " [10. 12.]]\n",
      "[[ 6.  8.]\n",
      " [10. 12.]]\n"
     ]
    }
   ],
   "source": [
    "x= np.array([[1,2],[3,4]], dtype=np.float64)\n",
    "y= np.array([[5,6],[7,8]], dtype=np.float64)\n",
    "print(x+y)\n",
    "print(np.add(x,y))"
   ]
  },
  {
   "cell_type": "code",
   "execution_count": 20,
   "metadata": {},
   "outputs": [
    {
     "name": "stdout",
     "output_type": "stream",
     "text": [
      "[[-4. -4.]\n",
      " [-4. -4.]]\n",
      "[[-4. -4.]\n",
      " [-4. -4.]]\n",
      "[[ 5. 12.]\n",
      " [21. 32.]]\n",
      "[[ 5. 12.]\n",
      " [21. 32.]]\n",
      "[[0.2        0.33333333]\n",
      " [0.42857143 0.5       ]]\n",
      "[[0.2        0.33333333]\n",
      " [0.42857143 0.5       ]]\n",
      "[[1.         1.41421356]\n",
      " [1.73205081 2.        ]]\n",
      "[[19. 22.]\n",
      " [43. 50.]]\n"
     ]
    }
   ],
   "source": [
    "print(x-y)\n",
    "print(np.subtract(x,y))\n",
    "print(np.multiply(x,y))\n",
    "print(x*y)\n",
    "print(np.divide(x,y))\n",
    "print(x/y)\n",
    "print(np.sqrt(x))\n",
    "print(x.dot(y))"
   ]
  },
  {
   "cell_type": "code",
   "execution_count": null,
   "metadata": {},
   "outputs": [],
   "source": [
    "x= np.array([[4,7],[5,9]], dtype=np.float64)\n",
    "x= np.array([[6,73],[2,5]], dtype=np.float64)\n"
   ]
  },
  {
   "cell_type": "code",
   "execution_count": 24,
   "metadata": {},
   "outputs": [
    {
     "name": "stdout",
     "output_type": "stream",
     "text": [
      "[[8 7]\n",
      " [3 2]]\n"
     ]
    }
   ],
   "source": [
    "#slicing \n",
    "#[9,8,7,6]\n",
    "#[5,3,2,6]\n",
    "#[10,8,9,6]\n",
    "\n",
    "a = np.array ( [[9,8,7,6], [5,3,2,6], [10,8,9,6]])\n",
    "print(a[0:2,1:3])"
   ]
  },
  {
   "cell_type": "code",
   "execution_count": 33,
   "metadata": {},
   "outputs": [
    {
     "name": "stdout",
     "output_type": "stream",
     "text": [
      "[[ 3  9  8  7  6]\n",
      " [ 2  5  4  3  2]\n",
      " [ 9 10  8  6  4]]\n",
      "a [[ 3  9  8  7  6]\n",
      " [ 2  5  4  3  2]\n",
      " [ 9 10  8  6  4]]\n",
      "b [[7 6]\n",
      " [3 2]\n",
      " [6 4]]\n",
      "c [[8 7]\n",
      " [4 3]]\n",
      "d [3 9 8 7 6]\n"
     ]
    }
   ],
   "source": [
    "rank2=np.array([[3,9,8,7,6],[2,5,4,3,2],[9,10,8,6,4]])\n",
    "print(rank2)\n",
    "print('a',rank2[0:4])\n",
    "print('b',rank2[:,3:5])\n",
    "print('c', rank2[0:2, 2:4])\n",
    "print('d', rank2[0,:])"
   ]
  },
  {
   "cell_type": "code",
   "execution_count": 38,
   "metadata": {},
   "outputs": [
    {
     "name": "stdout",
     "output_type": "stream",
     "text": [
      "[[20 19 18]\n",
      " [17 16 15]\n",
      " [14 13 12]\n",
      " [11 10  9]] (4, 3)\n",
      "[0 2 1 0]\n",
      "[20 15 13 11]\n"
     ]
    }
   ],
   "source": [
    "a=np.array([[20,19,18],[17,16,15],[14,13,12],[11,10,9]])\n",
    "print(a,a.shape)\n",
    "b= np.array([0,2,1,0])\n",
    "print(b)\n",
    "#select one element from each row of a using the incidence in b \n",
    "print(a[np.arange(4),b])"
   ]
  },
  {
   "cell_type": "code",
   "execution_count": 42,
   "metadata": {},
   "outputs": [
    {
     "name": "stdout",
     "output_type": "stream",
     "text": [
      "[19 15 14 10]\n"
     ]
    }
   ],
   "source": [
    "#select one element from each row of using the indices in t \n",
    "t = np.array([1,2,0,1])\n",
    "print(a[np.arange(4),t])"
   ]
  },
  {
   "cell_type": "code",
   "execution_count": 46,
   "metadata": {},
   "outputs": [
    {
     "name": "stdout",
     "output_type": "stream",
     "text": [
      "[20 16 13  9]\n",
      "[[25 19 18]\n",
      " [17 21 15]\n",
      " [14 18 12]\n",
      " [11 10 14]]\n"
     ]
    }
   ],
   "source": [
    "#indices \n",
    "u = np.array([0,1,1,2])\n",
    "print(a[np.arange(4),u])\n",
    "\n",
    "#mutation\n",
    "a[np.arange(4),u]+=5\n",
    "print(a)"
   ]
  },
  {
   "cell_type": "code",
   "execution_count": 48,
   "metadata": {},
   "outputs": [
    {
     "name": "stdout",
     "output_type": "stream",
     "text": [
      "[[25 76 18]\n",
      " [17 21 60]\n",
      " [56 18 12]\n",
      " [11 40 14]]\n"
     ]
    }
   ],
   "source": [
    "t = np.array([1,2,0,1])\n",
    "a[np.arange(4),t]*=2\n",
    "print (a)"
   ]
  },
  {
   "cell_type": "code",
   "execution_count": 50,
   "metadata": {},
   "outputs": [
    {
     "name": "stdout",
     "output_type": "stream",
     "text": [
      "[[False False]\n",
      " [ True  True]\n",
      " [ True  True]]\n",
      "[3 4 5 6]\n"
     ]
    }
   ],
   "source": [
    "#boolean\n",
    "a= np.array([[1,2],[3,4],[5,6]])\n",
    "bool_idx=(a>2)\n",
    "print(bool_idx)\n",
    "print(a[bool_idx])\n"
   ]
  },
  {
   "cell_type": "code",
   "execution_count": 53,
   "metadata": {},
   "outputs": [
    {
     "name": "stdout",
     "output_type": "stream",
     "text": [
      "21\n",
      "[ 9 12]\n"
     ]
    }
   ],
   "source": [
    "print(np.sum(a))\n",
    "print(np.sum(a,axis=0)) #adds only first row"
   ]
  },
  {
   "cell_type": "code",
   "execution_count": 61,
   "metadata": {},
   "outputs": [
    {
     "ename": "SyntaxError",
     "evalue": "invalid syntax (<ipython-input-61-796c0c500db3>, line 4)",
     "output_type": "error",
     "traceback": [
      "\u001b[1;36m  File \u001b[1;32m\"<ipython-input-61-796c0c500db3>\"\u001b[1;36m, line \u001b[1;32m4\u001b[0m\n\u001b[1;33m    print(arr1)\u001b[0m\n\u001b[1;37m        ^\u001b[0m\n\u001b[1;31mSyntaxError\u001b[0m\u001b[1;31m:\u001b[0m invalid syntax\n"
     ]
    }
   ],
   "source": [
    "arr=np.arange(87,156)\n",
    "print(arr)\n",
    "arr1=np.arange(156).reshape((2,2)\n",
    "print(arr1)"
   ]
  },
  {
   "cell_type": "code",
   "execution_count": null,
   "metadata": {},
   "outputs": [],
   "source": [
    "import pandas as pd\n",
    "a = np.array([1,2,3,4])\n",
    "series=pd.Series([1,2,3,4])\n",
    "print(series.)"
   ]
  }
 ],
 "metadata": {
  "kernelspec": {
   "display_name": "Python 3",
   "language": "python",
   "name": "python3"
  },
  "language_info": {
   "codemirror_mode": {
    "name": "ipython",
    "version": 3
   },
   "file_extension": ".py",
   "mimetype": "text/x-python",
   "name": "python",
   "nbconvert_exporter": "python",
   "pygments_lexer": "ipython3",
   "version": "3.7.3"
  }
 },
 "nbformat": 4,
 "nbformat_minor": 2
}
